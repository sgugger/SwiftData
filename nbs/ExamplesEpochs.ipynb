{
 "cells": [
  {
   "cell_type": "code",
   "execution_count": 1,
   "metadata": {
    "scrolled": false
   },
   "outputs": [
    {
     "name": "stdout",
     "output_type": "stream",
     "text": [
      "Installing packages:\n",
      "\t.package(path: \"../../..\")\n",
      "\t\tEpochs\n",
      "\t.package(url: \"https://github.com/paiv/swift-pcg-random.git\", .upToNextMajor(from: \"1.0.0\"))\n",
      "\t\tPcgRandom\n",
      "With SwiftPM flags: []\n",
      "Working in: /tmp/tmpfdsl947o/swift-install\n",
      "/home/sgugger/swift/usr/bin/swift-build: /home/sgugger/anaconda3/lib/libcurl.so.4: no version information available (required by /home/sgugger/swift/usr/lib/swift/linux/libFoundationNetworking.so)\n",
      "[1/3] Merging module PcgRandom\n",
      "[2/5] Compiling Epochs NonuniformTrainingEpochs.swift\n",
      "[3/5] Compiling Epochs Collatable.swift\n",
      "[4/6] Merging module Epochs\n",
      "[5/7] Wrapping AST for Epochs for debugging\n",
      "[6/8] Compiling jupyterInstalledPackages jupyterInstalledPackages.swift\n",
      "[7/9] Merging module jupyterInstalledPackages\n",
      "[8/8] Linking libjupyterInstalledPackages.so\n",
      "Initializing Swift...\n",
      "Installation complete!\n"
     ]
    }
   ],
   "source": [
    "%install-location $cwd/swift-install\n",
    "%install '.package(path: \"../../..\")' Epochs\n",
    "%install '.package(url: \"https://github.com/paiv/swift-pcg-random.git\", .upToNextMajor(from: \"1.0.0\"))' PcgRandom"
   ]
  },
  {
   "cell_type": "code",
   "execution_count": 2,
   "metadata": {},
   "outputs": [],
   "source": [
    "import TensorFlow\n",
    "import Epochs"
   ]
  },
  {
   "cell_type": "code",
   "execution_count": 13,
   "metadata": {},
   "outputs": [
    {
     "data": {
      "text/plain": [
       "1587497019\n"
      ]
     },
     "execution_count": 13,
     "metadata": {},
     "output_type": "execute_result"
    }
   ],
   "source": [
    "UInt32(time(nil))"
   ]
  },
  {
   "cell_type": "code",
   "execution_count": 8,
   "metadata": {},
   "outputs": [],
   "source": [
    "public func nonuniformInferenceBatches1<Samples: Collection>(\n",
    "  samples: Samples, batchSize: Int, areInAscendingSizeOrder:\n",
    "      @escaping (Samples.Element, Samples.Element) -> Bool\n",
    ") -> Slices<LazilySelected<Samples, [Samples.Index]>>{\n",
    "  let sampleOrder = Array(samples.indices).sorted { \n",
    "      areInAscendingSizeOrder(samples[$0], samples[$1])\n",
    "  }\n",
    "  return samples.selecting(sampleOrder).inBatches(of: batchSize)\n",
    "}"
   ]
  },
  {
   "cell_type": "code",
   "execution_count": 9,
   "metadata": {},
   "outputs": [],
   "source": [
    "let nonuniformDataset: [Tensor<Int32>] = { \n",
    "    var dataset: [Tensor<Int32>] = []\n",
    "    for _ in 0..<512 {\n",
    "      dataset.append(Tensor<Int32>(\n",
    "                       randomUniform: [Int.random(in: 1...200)], \n",
    "                       lowerBound: Tensor<Int32>(0), \n",
    "                       upperBound: Tensor<Int32>(100)\n",
    "                    ))\n",
    "    }\n",
    "    return dataset\n",
    "  }()"
   ]
  },
  {
   "cell_type": "code",
   "execution_count": 14,
   "metadata": {},
   "outputs": [],
   "source": [
    "let batches = nonuniformInferenceBatches1(\n",
    "      samples: nonuniformDataset, batchSize: 64) { $0.shape[0] < $1.shape[0] }"
   ]
  },
  {
   "cell_type": "code",
   "execution_count": 16,
   "metadata": {},
   "outputs": [
    {
     "name": "stdout",
     "output_type": "stream",
     "text": [
      "[64, 200]\n",
      "[64, 172]\n",
      "[64, 146]\n",
      "[64, 126]\n",
      "[64, 104]\n",
      "[64, 73]\n",
      "[64, 44]\n",
      "[64, 21]\n"
     ]
    }
   ],
   "source": [
    "for batch in batches { print(batch.paddedAndCollated(with: 0).shape) }"
   ]
  },
  {
   "cell_type": "code",
   "execution_count": 7,
   "metadata": {},
   "outputs": [],
   "source": [
    "let x: [Int] = (0..<100).map { _ in Int.random(in:0..<100) }"
   ]
  },
  {
   "cell_type": "code",
   "execution_count": 10,
   "metadata": {},
   "outputs": [],
   "source": [
    "let sampleOrder = Array(x.indices).sorted { x[$0] > x[$1] }"
   ]
  },
  {
   "cell_type": "code",
   "execution_count": 12,
   "metadata": {},
   "outputs": [
    {
     "name": "stdout",
     "output_type": "stream",
     "text": [
      "Slices<LazilySelected<Array<Int>, Array<Int>>>\r\n"
     ]
    }
   ],
   "source": [
    "print(type(of:x.selecting(sampleOrder).inBatches(of: 10)))"
   ]
  },
  {
   "cell_type": "code",
   "execution_count": 4,
   "metadata": {},
   "outputs": [],
   "source": [
    "public struct NonuniformInferenceBatches<Samples: Collection> {\n",
    "  private let samples: Samples\n",
    "  \n",
    "  /// The number of samples in a batch.\n",
    "  let batchSize: Int\n",
    "\n",
    "  /// The ordering of samples in the current epoch.\n",
    "  private var sampleOrder: [Samples.Index]\n",
    "\n",
    "  /// Creates an instance drawing samples from `samples` into batches of size\n",
    "  /// `batchSize`.\n",
    "  ///\n",
    "  /// - Parameters:\n",
    "  ///   - areInAscendingSizeOrder: a predicate that returns `true` iff the size\n",
    "  ///     of the first parameter is less than that of the second.\n",
    "  public init(\n",
    "    samples: Samples,\n",
    "    batchSize: Int,\n",
    "    areInAscendingSizeOrder:\n",
    "      @escaping (Samples.Element, Samples.Element) -> Bool\n",
    "  ) {\n",
    "    self.samples = samples\n",
    "    self.batchSize = batchSize\n",
    "    sampleOrder = Array(samples.indices).sorted { \n",
    "      areInAscendingSizeOrder(samples[$0], samples[$1])\n",
    "    }\n",
    "  }\n",
    "}"
   ]
  },
  {
   "cell_type": "code",
   "execution_count": null,
   "metadata": {},
   "outputs": [],
   "source": []
  },
  {
   "cell_type": "code",
   "execution_count": 3,
   "metadata": {},
   "outputs": [],
   "source": [
    "protocol BatchMaker {\n",
    "  associatedtype Batch\n",
    "  associatedtype Samples\n",
    "  func makeBatch<C: Collection>(_: C) -> Batch where C.Element == Samples\n",
    "}"
   ]
  },
  {
   "cell_type": "code",
   "execution_count": 4,
   "metadata": {},
   "outputs": [],
   "source": [
    "class Epochs<\n",
    "  TrainingEpochs: Sequence&IteratorProtocol, \n",
    "  ValidationBatches: Collection, \n",
    "  Maker: BatchMaker\n",
    ">: Sequence, IteratorProtocol \n",
    "where \n",
    "  TrainingEpochs.Element: Collection,\n",
    "  TrainingEpochs.Element.Element: Collection,\n",
    "  TrainingEpochs.Element.Element.Element == Maker.Samples,\n",
    "  ValidationBatches.Element: Collection, \n",
    "  ValidationBatches.Element.Element == Maker.Samples {\n",
    "  \n",
    "  private var training: TrainingEpochs\n",
    "  private let validation: ValidationBatches\n",
    "  private let batchMaker: Maker\n",
    "\n",
    "  public init(training: TrainingEpochs, validation: ValidationBatches,\n",
    "              batchMaker: Maker) {\n",
    "    self.training = training\n",
    "    self.validation = validation\n",
    "    self.batchMaker = batchMaker\n",
    "  }\n",
    "          \n",
    "  /// The type of each epoch, a tuple with training batches and\n",
    "  /// inference batches\n",
    "  public typealias Element = \n",
    "    (LazyMapSequence<TrainingEpochs.Element, Maker.Batch>,\n",
    "     LazyMapSequence<ValidationBatches, Maker.Batch>)\n",
    "\n",
    "  /// Returns the next epoch in sequence.\n",
    "  public func next() -> Element? {\n",
    "    if let train = training.next() {\n",
    "      return (train.lazy.map(batchMaker.makeBatch), \n",
    "              validation.lazy.map(batchMaker.makeBatch))\n",
    "    }\n",
    "    return nil\n",
    "  }\n",
    "}"
   ]
  },
  {
   "cell_type": "code",
   "execution_count": 15,
   "metadata": {},
   "outputs": [
    {
     "ename": "",
     "evalue": "",
     "output_type": "error",
     "traceback": [
      "error: <Cell 15>:1:21: error: cannot specialize non-generic type 'Collection'\ntypealias tstType = Collection<Int, Float>\n                    ^         ~~~~~~~~~~~~\n                              \n\n"
     ]
    }
   ],
   "source": [
    "typealias tstType = Collection<Int, Float>"
   ]
  },
  {
   "cell_type": "code",
   "execution_count": 11,
   "metadata": {},
   "outputs": [],
   "source": [
    "public struct CollationBatchMaker<Batch>: BatchMaker \n",
    "where Batch: Collatable { \n",
    "  public typealias Samples = Batch\n",
    "  public func makeBatch<C: Collection>(_ x: C) -> Batch where C.Element == Batch {\n",
    "    return x.collated\n",
    "  }\n",
    "}"
   ]
  },
  {
   "cell_type": "code",
   "execution_count": 6,
   "metadata": {},
   "outputs": [],
   "source": [
    "let trainingSet = (0..<512).lazy.map { (x: Int) -> Tensor<Float> in\n",
    "  return Tensor<Float>(randomNormal: [224, 224, 3])\n",
    "}"
   ]
  },
  {
   "cell_type": "code",
   "execution_count": 7,
   "metadata": {},
   "outputs": [],
   "source": [
    "let validationSet = (0..<256).lazy.map { (x: Int) -> Tensor<Float> in\n",
    "  return Tensor<Float>(randomNormal: [224, 224, 3])\n",
    "}"
   ]
  },
  {
   "cell_type": "code",
   "execution_count": 8,
   "metadata": {},
   "outputs": [],
   "source": [
    "var pcg = Pcg64Random(seed: 42)"
   ]
  },
  {
   "cell_type": "code",
   "execution_count": 9,
   "metadata": {},
   "outputs": [],
   "source": [
    "let trainingEpochs = TrainingEpochs(samples: trainingSet, batchSize: 64, entropy: pcg)"
   ]
  },
  {
   "cell_type": "code",
   "execution_count": 12,
   "metadata": {},
   "outputs": [],
   "source": [
    "let epochs = Epochs(\n",
    "  training: TrainingEpochs(samples: trainingSet, batchSize: 64, entropy: pcg),\n",
    "  validation: validationSet.inBatches(of: 64),\n",
    "  batchMaker: CollationBatchMaker()\n",
    ")"
   ]
  },
  {
   "cell_type": "code",
   "execution_count": 18,
   "metadata": {},
   "outputs": [
    {
     "ename": "",
     "evalue": "",
     "output_type": "error",
     "traceback": [
      "error: <Cell 18>:3:29: error: use of unresolved identifier 'batch'\n    let (images, labels) = (batch.first, batch.second)\n                            ^~~~~\n\nerror: <Cell 18>:3:42: error: use of unresolved identifier 'batch'\n    let (images, labels) = (batch.first, batch.second)\n                                         ^~~~~\n\nerror: <Cell 18>:4:51: error: use of unresolved identifier 'model'\n    let (loss, gradients) = valueWithGradient(at: model) { model -> Tensor<Float> in\n                                                  ^~~~~\n\nerror: <Cell 18>:8:5: error: use of unresolved identifier 'optimizer'\n    optimizer.update(&model, along: gradients)\n    ^~~~~~~~~\n\nerror: <Cell 18>:8:23: error: use of unresolved identifier 'model'\n    optimizer.update(&model, along: gradients)\n                      ^~~~~\n\nerror: <Cell 18>:11:16: error: use of unresolved identifier 'validationBatches'\n  for batch in validationBatches {\n               ^~~~~~~~~~~~~~~~~\n\n"
     ]
    }
   ],
   "source": [
    "for trainingBatches in trainingEpochs.prefix(1) {\n",
    "  for batchSamples in trainingBatches {\n",
    "    let batch = batchSamples.collated\n",
    "    let (images, labels) = (batch.first, batch.second)\n",
    "    let (loss, gradients) = valueWithGradient(at: model) { model -> Tensor<Float> in\n",
    "      let logits = model(images)\n",
    "      return softmaxCrossEntropy(logits: logits, labels: labels)\n",
    "     }\n",
    "    optimizer.update(&model, along: gradients)\n",
    "  }\n",
    "  \n",
    "  for batch in validationBatches {\n",
    "    print(batch.shape)\n",
    "  }\n",
    "}"
   ]
  },
  {
   "cell_type": "code",
   "execution_count": 8,
   "metadata": {},
   "outputs": [
    {
     "name": "stdout",
     "output_type": "stream",
     "text": [
      "TrainingEpochs<LazyMapSequence<Range<Int>, Tensor<Float>>, Pcg64Random>\r\n"
     ]
    }
   ],
   "source": [
    "print(type(of: trainingEpochs))"
   ]
  },
  {
   "cell_type": "code",
   "execution_count": 10,
   "metadata": {},
   "outputs": [
    {
     "ename": "",
     "evalue": "",
     "output_type": "error",
     "traceback": [
      "error: Execution was interrupted, reason: signal SIGSEGV: invalid address (fault address: 0x58).\nThe process has been left at the point where it was interrupted, use \"thread return -x\" to return to the state before expression evaluation.\n"
     ]
    }
   ],
   "source": [
    "let epochs = Epochs(\n",
    "  training: TrainingEpochs(samples: trainingSet, batchSize: 64, entropy: pcg),\n",
    "  validation: validationSet.inBatches(of: 64)) { $0.collated }"
   ]
  },
  {
   "cell_type": "code",
   "execution_count": 3,
   "metadata": {},
   "outputs": [
    {
     "data": {
      "text/plain": [
       "▿ 5 elements\n",
       "  ▿ 0 : 5 elements\n",
       "    - 0 : 0\n",
       "    - 1 : 1\n",
       "    - 2 : 2\n",
       "    - 3 : 3\n",
       "    - 4 : 4\n",
       "  ▿ 1 : 3 elements\n",
       "    - 0 : 5\n",
       "    - 1 : 6\n",
       "    - 2 : 7\n",
       "  ▿ 2 : 7 elements\n",
       "    - 0 : 8\n",
       "    - 1 : 9\n",
       "    - 2 : 10\n",
       "    - 3 : 11\n",
       "    - 4 : 12\n",
       "    - 5 : 13\n",
       "    - 6 : 14\n",
       "  ▿ 3 : 9 elements\n",
       "    - 0 : 15\n",
       "    - 1 : 16\n",
       "    - 2 : 17\n",
       "    - 3 : 18\n",
       "    - 4 : 19\n",
       "    - 5 : 20\n",
       "    - 6 : 21\n",
       "    - 7 : 22\n",
       "    - 8 : 23\n",
       "  ▿ 4 : 6 elements\n",
       "    - 0 : 24\n",
       "    - 1 : 25\n",
       "    - 2 : 26\n",
       "    - 3 : 27\n",
       "    - 4 : 28\n",
       "    - 5 : 29\n"
      ]
     },
     "execution_count": 3,
     "metadata": {},
     "output_type": "execute_result"
    }
   ],
   "source": [
    "let cuts = [0, 5, 8, 15, 24, 30]\n",
    "let texts = (0..<5).map { Array(cuts[$0]..<cuts[$0+1]) }\n",
    "texts"
   ]
  },
  {
   "cell_type": "code",
   "execution_count": 4,
   "metadata": {},
   "outputs": [],
   "source": [
    "func preBatchTranspose<C: Collection>(_ base: C, for batchSize: Int, collectionCount: Int? = nil) -> [C.Index] {\n",
    "  let count = collectionCount ?? base.count\n",
    "  let batchCount = count / batchSize\n",
    "  return (0..<count).map { (i: Int) -> C.Index in \n",
    "    let j = batchCount * (i % batchSize) + i / batchSize \n",
    "    return base.index(base.startIndex, offsetBy: j) \n",
    "  }\n",
    "}"
   ]
  },
  {
   "cell_type": "code",
   "execution_count": 13,
   "metadata": {},
   "outputs": [],
   "source": [
    "let sequenceLength = 3\n",
    "let batchSize = 2\n",
    "\n",
    "let sequences = texts.selecting(Array(0..<5)).joined().inBatches(of: sequenceLength)\n",
    "let indices = preBatchTranspose(sequences, for: batchSize)\n",
    "let batches = sequences.selecting(indices).inBatches(of: batchSize)"
   ]
  },
  {
   "cell_type": "code",
   "execution_count": 15,
   "metadata": {},
   "outputs": [
    {
     "name": "stdout",
     "output_type": "stream",
     "text": [
      "Slices<FlattenSequence<LazilySelected<Array<Array<Int>>, Array<Int>>>>\r\n"
     ]
    }
   ],
   "source": [
    "print(type(of: sequences))"
   ]
  },
  {
   "cell_type": "code",
   "execution_count": 8,
   "metadata": {},
   "outputs": [
    {
     "name": "stdout",
     "output_type": "stream",
     "text": [
      "[[ 0,  1,  2],\r\n",
      " [15, 16, 17]]\r\n",
      "[[ 3,  4,  5],\r\n",
      " [18, 19, 20]]\r\n",
      "[[ 6,  7,  8],\r\n",
      " [21, 22, 23]]\r\n",
      "[[ 9, 10, 11],\r\n",
      " [24, 25, 26]]\r\n",
      "[[12, 13, 14],\r\n",
      " [27, 28, 29]]\r\n"
     ]
    }
   ],
   "source": [
    "for b in batches { \n",
    "  print(Tensor<Int32>(b.map { Tensor<Int32>($0.map { Int32($0) })}))\n",
    "}"
   ]
  },
  {
   "cell_type": "code",
   "execution_count": 12,
   "metadata": {},
   "outputs": [],
   "source": [
    "typealias Samples = [[Int]]\n",
    "typealias Sentences = Slices<FlattenSequence<LazilySelected<Samples, Array<Samples.Index>.SubSequence>>>"
   ]
  },
  {
   "cell_type": "code",
   "execution_count": 3,
   "metadata": {},
   "outputs": [],
   "source": [
    "class Tracker {\n",
    "  var accessed: Bool = false\n",
    "}"
   ]
  },
  {
   "cell_type": "code",
   "execution_count": 5,
   "metadata": {},
   "outputs": [],
   "source": [
    "import PcgRandom\n",
    "\n",
    "var pcg = Pcg64Random(seed: 42)"
   ]
  },
  {
   "cell_type": "code",
   "execution_count": 6,
   "metadata": {},
   "outputs": [],
   "source": [
    "let rawItems: [Tracker] = Array(0..<512).map{ _ in Tracker() }\n",
    "let dataset = rawItems.lazy.map { (x: Tracker) -> Tensor<Float> in\n",
    "  x.accessed = true\n",
    "  return Tensor<Float>(randomNormal: [224, 224, 3])\n",
    "}"
   ]
  },
  {
   "cell_type": "code",
   "execution_count": 7,
   "metadata": {},
   "outputs": [],
   "source": [
    "let batches = dataset[..<500].inBatches(of: 64).lazy.map(\\.collated)"
   ]
  },
  {
   "cell_type": "code",
   "execution_count": 8,
   "metadata": {},
   "outputs": [
    {
     "data": {
      "text/plain": [
       "true\n"
      ]
     },
     "execution_count": 8,
     "metadata": {},
     "output_type": "execute_result"
    }
   ],
   "source": [
    "rawItems.allSatisfy{ !$0.accessed }"
   ]
  },
  {
   "cell_type": "code",
   "execution_count": 7,
   "metadata": {},
   "outputs": [
    {
     "data": {
      "text/plain": [
       "true\n"
      ]
     },
     "execution_count": 7,
     "metadata": {},
     "output_type": "execute_result"
    }
   ],
   "source": [
    "let _ = rawItems.map { $0.accessed = false }\n",
    "var test = true\n",
    "for (i,batch) in batches.enumerated() {\n",
    "  test = test && (batch.shape == TensorShape([64, 224, 224, 3]))\n",
    "  let limit = (i + 1) * 64\n",
    "  test = test && rawItems[..<limit].allSatisfy(\\.accessed)\n",
    "  test = test && rawItems[limit...].allSatisfy{ !$0.accessed }\n",
    "}\n",
    "test"
   ]
  },
  {
   "cell_type": "code",
   "execution_count": 14,
   "metadata": {},
   "outputs": [],
   "source": [
    "var trainingEpochs = UniformTrainingEpochs(samples: dataset, batchSize: 64, entropy: pcg)"
   ]
  },
  {
   "cell_type": "code",
   "execution_count": 17,
   "metadata": {},
   "outputs": [],
   "source": [
    "let a = dataset[0]"
   ]
  },
  {
   "cell_type": "code",
   "execution_count": 18,
   "metadata": {},
   "outputs": [
    {
     "data": {
      "text/plain": [
       "true\n"
      ]
     },
     "execution_count": 18,
     "metadata": {},
     "output_type": "execute_result"
    }
   ],
   "source": [
    "var observedSampleOrder: [ObjectIdentifier]?"
   ]
  },
  {
   "cell_type": "code",
   "execution_count": 29,
   "metadata": {},
   "outputs": [
    {
     "name": "stdout",
     "output_type": "stream",
     "text": [
      "LazyMapSequence<Array<Tracker>, Tensor<Float>>\r\n"
     ]
    }
   ],
   "source": [
    "print(type(of: dataset))"
   ]
  },
  {
   "cell_type": "code",
   "execution_count": 28,
   "metadata": {},
   "outputs": [
    {
     "name": "stdout",
     "output_type": "stream",
     "text": [
      "true\n",
      "true\n",
      "true\n",
      "true\n",
      "true\n",
      "true\n",
      "true\n",
      "true\n",
      "true\n",
      "true\n",
      "true\n",
      "true\n",
      "true\n",
      "true\n",
      "true\n",
      "true\n",
      "true\n",
      "true\n",
      "true\n",
      "true\n"
     ]
    }
   ],
   "source": [
    "let rawItems: [Tracker] = Array(0..<512).map{ _ in Tracker() }\n",
    "let dataset = rawItems.lazy.map { (x: Tracker) -> Tensor<Float> in\n",
    "  x.accessed = true\n",
    "  return Tensor<Float>(randomNormal: [224, 224, 3])\n",
    "}\n",
    "var trainingEpochs = UniformTrainingEpochs(samples: dataset, batchSize: 64, entropy: pcg)\n",
    "\n",
    "var accessed = Array(0..<512)\n",
    "for batches in trainingEpochs.prefix(20) {\n",
    "  var newAccessed: [Int] = []\n",
    "  for batch in batches {\n",
    "    let collatedBatch = batch.collated\n",
    "    newAccessed += Array(0..<512).filter { rawItems[$0].accessed }    \n",
    "  }\n",
    "  print(accessed != newAccessed)\n",
    "}"
   ]
  },
  {
   "cell_type": "code",
   "execution_count": 29,
   "metadata": {},
   "outputs": [
    {
     "name": "stdout",
     "output_type": "stream",
     "text": [
      "[64, 32, 32, 3]\r\n",
      "[64, 32, 32, 3]\r\n",
      "[64, 32, 32, 3]\r\n",
      "[64, 32, 32, 3]\r\n",
      "[64, 32, 32, 3]\r\n",
      "[64, 32, 32, 3]\r\n",
      "[64, 32, 32, 3]\r\n",
      "[64, 32, 32, 3]\r\n"
     ]
    }
   ],
   "source": [
    "for abatch in dataset {\n",
    "    print(batch.shape)\n",
    "}"
   ]
  },
  {
   "cell_type": "code",
   "execution_count": 21,
   "metadata": {},
   "outputs": [
    {
     "name": "stdout",
     "output_type": "stream",
     "text": [
      "[64, 224, 224, 3]\n",
      "[64, 224, 224, 3]\n",
      "[64, 224, 224, 3]\n",
      "[64, 224, 224, 3]\n",
      "[64, 224, 224, 3]\n",
      "[64, 224, 224, 3]\n",
      "[64, 224, 224, 3]\n",
      "[64, 224, 224, 3]\n"
     ]
    }
   ],
   "source": [
    "for batch in batches {\n",
    "    print(batch.shape)\n",
    "}"
   ]
  },
  {
   "cell_type": "code",
   "execution_count": 4,
   "metadata": {},
   "outputs": [
    {
     "data": {
      "text/plain": [
       "true\n"
      ]
     },
     "execution_count": 4,
     "metadata": {},
     "output_type": "execute_result"
    }
   ],
   "source": [
    "let dataset1 = dataset.shuffled()\n",
    "accessed.reduce(true) { $0 && $1 }"
   ]
  },
  {
   "cell_type": "code",
   "execution_count": 5,
   "metadata": {},
   "outputs": [
    {
     "data": {
      "text/plain": [
       "true\n"
      ]
     },
     "execution_count": 5,
     "metadata": {},
     "output_type": "execute_result"
    }
   ],
   "source": [
    "accessed = rawItems.map { _ in false }\n",
    "let dataset2 = ReindexedCollection(dataset).innerShuffled()\n",
    "accessed.reduce(true) { $0 && !$1 }"
   ]
  },
  {
   "cell_type": "code",
   "execution_count": 6,
   "metadata": {},
   "outputs": [
    {
     "name": "stdout",
     "output_type": "stream",
     "text": [
      "[64, 224, 224, 3]\n",
      "[64, 224, 224, 3]\n",
      "[64, 224, 224, 3]\n",
      "[64, 224, 224, 3]\n",
      "[64, 224, 224, 3]\n",
      "[64, 224, 224, 3]\n",
      "[64, 224, 224, 3]\n",
      "[64, 224, 224, 3]\n"
     ]
    }
   ],
   "source": [
    "// A `Batches` defined on this:\n",
    "let batches = Batches(of: 64, from: dataset2, \\.collated)\n",
    "// Iteration over it:\n",
    "for batch in batches {\n",
    "    print(batch.shape)\n",
    "}"
   ]
  },
  {
   "cell_type": "code",
   "execution_count": 7,
   "metadata": {},
   "outputs": [
    {
     "name": "stdout",
     "output_type": "stream",
     "text": [
      "[64, 224, 224, 3]\n",
      "[64, 224, 224, 3]\n",
      "[64, 224, 224, 3]\n",
      "[64, 224, 224, 3]\n",
      "[64, 224, 224, 3]\n",
      "[64, 224, 224, 3]\n",
      "[64, 224, 224, 3]\n",
      "[64, 224, 224, 3]\n"
     ]
    }
   ],
   "source": [
    "// Base use\n",
    "// Some raw items (for instance filenames)\n",
    "let rawItems = 0..<512\n",
    "// A heavy-compute function lazily mapped on it (for instance, opening the images)\n",
    "let dataSet = rawItems.lazy.map { _ in Tensor<Float>(randomNormal: [224, 224, 3]) }\n",
    "// A `Batches` defined on this:\n",
    "let batches = Batches(of: 64, from: dataSet, \\.collated)\n",
    "// Iteration over it:\n",
    "for batch in batches {\n",
    "    print(batch.shape)\n",
    "}"
   ]
  },
  {
   "cell_type": "code",
   "execution_count": 8,
   "metadata": {},
   "outputs": [
    {
     "name": "stdout",
     "output_type": "stream",
     "text": [
      "Batches<Array<Tensor<Float>>, Tensor<Float>>\r\n"
     ]
    }
   ],
   "source": [
    "// Enabling shuffle\n",
    "let batches = Batches(of: 64, from: dataSet.shuffled(), \\.collated)\n",
    "// This should absolutely not be done this way because it traverses the collection:\n",
    "print(type(of: batches))"
   ]
  },
  {
   "cell_type": "code",
   "execution_count": 9,
   "metadata": {},
   "outputs": [
    {
     "name": "stdout",
     "output_type": "stream",
     "text": [
      "false\n",
      "64\n",
      "128\n",
      "192\n",
      "256\n",
      "320\n",
      "384\n",
      "448\n",
      "512\n"
     ]
    }
   ],
   "source": [
    "// We need to actually go back to raw collection:\n",
    "let dataSet = rawItems.shuffled().lazy.map { (x: Int) -> Tensor<Float> in\n",
    "  accessed[x] = true\n",
    "  return Tensor<Float>(randomNormal: [224, 224, 3])\n",
    "}\n",
    "\n",
    "accessed = rawItems.map { _ in false }\n",
    "let batches = Batches(of: 64, from: dataSet, \\.collated)\n",
    "for (i, batch) in batches.enumerated() {\n",
    "  if i == 0 {\n",
    "      print(accessed[0..<64].reduce(true) { $0 && $1 })\n",
    "  }\n",
    "  print(accessed.filter() { $0 == true }.count)\n",
    "}"
   ]
  },
  {
   "cell_type": "code",
   "execution_count": 10,
   "metadata": {},
   "outputs": [
    {
     "name": "stdout",
     "output_type": "stream",
     "text": [
      "false\n",
      "64\n",
      "128\n",
      "192\n",
      "256\n",
      "320\n",
      "384\n",
      "448\n",
      "512\n"
     ]
    }
   ],
   "source": [
    "// ReindexCollection does that for us\n",
    "let dataSet = rawItems.lazy.map { (x: Int) -> Tensor<Float> in\n",
    "  accessed[x] = true\n",
    "  return Tensor<Float>(randomNormal: [224, 224, 3])\n",
    "}\n",
    "\n",
    "accessed = rawItems.map { _ in false }\n",
    "let batches = Batches(of: 64, from: ReindexedCollection(dataSet).innerShuffled(), \\.collated)\n",
    "for (i, batch) in batches.enumerated() {\n",
    "  if i == 0 {\n",
    "      print(accessed[0..<64].reduce(true) { $0 && $1 })\n",
    "  }\n",
    "  print(accessed.filter() { $0 == true }.count)\n",
    "}"
   ]
  },
  {
   "cell_type": "code",
   "execution_count": 19,
   "metadata": {},
   "outputs": [
    {
     "name": "stdout",
     "output_type": "stream",
     "text": [
      "[64, 190]\n",
      "[64, 200]\n",
      "[64, 199]\n",
      "[64, 196]\n",
      "[64, 197]\n",
      "[64, 199]\n",
      "[64, 198]\n",
      "[64, 200]\n"
     ]
    }
   ],
   "source": [
    "// Use with padding\n",
    "// Let's create an array of things of various lengths (for instance texts)\n",
    "var dataSet: [Tensor<Int32>] = []\n",
    "for _ in 0..<512 {\n",
    "    dataSet.append(Tensor<Int32>(\n",
    "        randomUniform: [Int.random(in: 1...200)], \n",
    "        lowerBound: Tensor<Int32>(0), \n",
    "        upperBound: Tensor<Int32>(100)\n",
    "    ))\n",
    "}\n",
    "\n",
    "// We need to pad those tensors to make them all the same length.\n",
    "// We could do this in one lazy transform applied beforehand and pad everything\n",
    "// to the same length, but it's not memory-efficient: some batches might need less\n",
    "// padding. So we need to add the padding after having selected the samples we\n",
    "// are trying to batch.\n",
    "let batches = Batches(of: 64, from: dataSet) { $0.paddedAndCollated(with: 0) }\n",
    "for (i, b) in batches.enumerated() {\n",
    "    print(b.shape)\n",
    "    let shapes = dataSet[(i * 64)..<((i + 1) * 64)].map { Int($0.shape[0]) }\n",
    "    let expectedShape = shapes.reduce(0) { max($0, $1) }\n",
    "}"
   ]
  },
  {
   "cell_type": "code",
   "execution_count": 12,
   "metadata": {},
   "outputs": [
    {
     "name": "stdout",
     "output_type": "stream",
     "text": [
      "[64, 200]\n",
      "[64, 173]\n",
      "[64, 146]\n",
      "[64, 119]\n",
      "[64, 97]\n",
      "[64, 71]\n",
      "[64, 48]\n",
      "[64, 23]\n"
     ]
    }
   ],
   "source": [
    "// Use with a sampler\n",
    "// In our previous example, another way to be memory efficient is to batch\n",
    "// samples of roughly the same lengths.\n",
    "let sortedDataset = dataSet.sorted { $0.shape[0] > $1.shape[0] }\n",
    "\n",
    "let batches = Batches(of: 64, from: sortedDataset) { $0.paddedAndCollated(with: 0) }\n",
    "for b in batches {\n",
    "    print(b.shape)\n",
    "}"
   ]
  },
  {
   "cell_type": "code",
   "execution_count": 13,
   "metadata": {},
   "outputs": [
    {
     "name": "stdout",
     "output_type": "stream",
     "text": [
      "[64, 200]\n",
      "[64, 140]\n",
      "[64, 96]\n",
      "[64, 47]\n",
      "[64, 200]\n",
      "[64, 149]\n",
      "[64, 97]\n",
      "[64, 50]\n"
     ]
    }
   ],
   "source": [
    "// When using a `batchSize` we get a bit of shuffle:\n",
    "// This can all be applied on a lazy collection without breaking the lasziness as long as the sort function does not access the dataset\n",
    "var sortedDataset = ReindexedCollection(dataSet).innerShuffled().sortedInBatches(of: 256) { dataSet[$0].shape[0] > dataSet[$1].shape[0] }\n",
    "\n",
    "let batches = Batches(of: 64, from: sortedDataset) { $0.paddedAndCollated(with: 0) }\n",
    "for b in batches {\n",
    "    print(b.shape)\n",
    "}"
   ]
  },
  {
   "cell_type": "code",
   "execution_count": 14,
   "metadata": {},
   "outputs": [],
   "source": [
    "struct LanguageModelDataset<Texts: RandomAccessCollection> where Texts.Element == [Int] {\n",
    "    /// The underlying collection of texts\n",
    "    public var texts: Texts\n",
    "    /// The length of the samples returned when indexing\n",
    "    private let sequenceLength: Int\n",
    "    // The texts all concatenated together\n",
    "    private var stream: [Int]\n",
    "    \n",
    "    init(texts: Texts, sequenceLength: Int) {\n",
    "        self.texts = texts\n",
    "        self.sequenceLength = sequenceLength\n",
    "        stream = texts.reduce([], +)\n",
    "    }\n",
    "}"
   ]
  },
  {
   "cell_type": "code",
   "execution_count": 15,
   "metadata": {},
   "outputs": [],
   "source": [
    "extension LanguageModelDataset: RandomAccessCollection {\n",
    "    public typealias Index = Int\n",
    "    public typealias Element = Tensor<Int32>\n",
    "    \n",
    "    public var startIndex: Int { return 0 }\n",
    "    public var endIndex: Int { return stream.count / sequenceLength }\n",
    "    public func index(after i: Int) -> Int { i+1 }\n",
    "    \n",
    "    public subscript(index: Int) -> Tensor<Int32> {\n",
    "        get { \n",
    "            let i = index * sequenceLength\n",
    "            return Tensor<Int32>(stream[i..<i+sequenceLength].map { Int32($0)} )\n",
    "        }\n",
    "    }\n",
    "}"
   ]
  },
  {
   "cell_type": "code",
   "execution_count": 16,
   "metadata": {},
   "outputs": [],
   "source": [
    "//Let's create such a DataSet\n",
    "let numbers: [[Int]] = [[1,2,3,4,5], [6,7,8], [9,10,11,12,13,14,15], [16,17,18]]\n",
    "var dataset = LanguageModelDataset(texts: numbers, sequenceLength: 3)"
   ]
  },
  {
   "cell_type": "code",
   "execution_count": 17,
   "metadata": {},
   "outputs": [],
   "source": [
    "//Now let's look at what it gives us:\n",
    "let batches = Batches(of: 3, from: dataset, \\.collated)\n",
    "for (i, b) in batches.enumerated() {\n",
    "  let expected = Tensor<Int32>(rangeFrom: Int32(1 + i * 9), to: Int32(1 + (i + 1) * 9), stride: 1)\n",
    "  //let y = x.reshaped(to: [3, 3])\n",
    "}"
   ]
  },
  {
   "cell_type": "code",
   "execution_count": 18,
   "metadata": {},
   "outputs": [
    {
     "data": {
      "text/plain": [
       "[[10, 11, 12],\n",
       " [13, 14, 15],\n",
       " [16, 17, 18]]\n"
      ]
     },
     "execution_count": 18,
     "metadata": {},
     "output_type": "execute_result"
    }
   ],
   "source": [
    "let x = Tensor<Int32>(rangeFrom: 10, to: 19, stride: 1)\n",
    "x.reshaped(to: [3, 3])"
   ]
  },
  {
   "cell_type": "code",
   "execution_count": 32,
   "metadata": {},
   "outputs": [],
   "source": [
    "var dataset = LanguageModelDataset(texts: numbers.shuffled(), sequenceLength: 3)\n",
    "let batches = Batches(of: 3, from: dataset, \\.collated)\n",
    "var stream: [Int] = []\n",
    "for batch in batches {\n",
    "  stream += batch.scalars.map { Int($0) }\n",
    "}"
   ]
  },
  {
   "cell_type": "code",
   "execution_count": 41,
   "metadata": {},
   "outputs": [],
   "source": [
    "func isSubset(_ x: [Int], from y: [Int]) -> Bool {\n",
    "  if let i = y.firstIndex(of: x[0]) {\n",
    "    return x.enumerated().allSatisfy() { (k: Int, o: Int) -> Bool in\n",
    "      o == y[i + k]\n",
    "    }  \n",
    "  }\n",
    "  return false\n",
    "}"
   ]
  },
  {
   "cell_type": "code",
   "execution_count": 42,
   "metadata": {},
   "outputs": [
    {
     "data": {
      "text/plain": [
       "true\n"
      ]
     },
     "execution_count": 42,
     "metadata": {},
     "output_type": "execute_result"
    }
   ],
   "source": [
    "numbers.allSatisfy{ isSubset($0, from: stream) }"
   ]
  },
  {
   "cell_type": "markdown",
   "metadata": {},
   "source": [
    "## `BatchesGenerator`"
   ]
  },
  {
   "cell_type": "code",
   "execution_count": 22,
   "metadata": {},
   "outputs": [],
   "source": [
    "// Base use\n",
    "\n",
    "// A heavy-compute function lazily mapped on it (for instance, opening the images)\n",
    "let trainingSet = (0..<512).lazy.map { _ in Tensor<Float>(randomNormal: [224, 224, 3]) }\n",
    "let validationSet = (0..<256).lazy.map { _ in Tensor<Float>(randomNormal: [224, 224, 3]) }"
   ]
  },
  {
   "cell_type": "code",
   "execution_count": 23,
   "metadata": {},
   "outputs": [],
   "source": [
    "// A `Batches` defined on this:\n",
    "let batchesGenerator = BatchesGenerator(\n",
    "    of: 64, \n",
    "    from: ReindexedCollection(trainingSet), \n",
    "    and: ReindexedCollection(validationSet), \n",
    "    with: LazyBatchesMaker(makeBatch: \\.collated)\n",
    ")"
   ]
  },
  {
   "cell_type": "code",
   "execution_count": 24,
   "metadata": {},
   "outputs": [
    {
     "name": "stdout",
     "output_type": "stream",
     "text": [
      "[64, 224, 224, 3]\n",
      "[64, 224, 224, 3]\n",
      "[64, 224, 224, 3]\n",
      "[64, 224, 224, 3]\n",
      "[64, 224, 224, 3]\n",
      "[64, 224, 224, 3]\n",
      "[64, 224, 224, 3]\n",
      "[64, 224, 224, 3]\n",
      "[64, 224, 224, 3]\n",
      "[64, 224, 224, 3]\n",
      "[64, 224, 224, 3]\n",
      "[64, 224, 224, 3]\n",
      "[64, 224, 224, 3]\n",
      "[64, 224, 224, 3]\n",
      "[64, 224, 224, 3]\n",
      "[64, 224, 224, 3]\n"
     ]
    }
   ],
   "source": [
    "let (trainingBatches, validationBatches) = batchesGenerator.nextEpoch()\n",
    "for b in trainingBatches { print(b.shape) }\n",
    "for b in validationBatches { print(b.shape) }"
   ]
  },
  {
   "cell_type": "code",
   "execution_count": 25,
   "metadata": {},
   "outputs": [],
   "source": [
    "/// An infinite generator of training and validation data in batches \n",
    "///\n",
    "/// - Note: if the `batchSize` changes during one epoch, it will only be\n",
    "///   reflected at the next.\n",
    "public struct BatchesGenerator1<Samples: Collection, Batch> {\n",
    "  /// Training dataset.\n",
    "  public let training: Samples\n",
    "  /// Validation dataset.\n",
    "  public let validation: Samples\n",
    "  /// The batch size.\n",
    "  public var batchSize: Int\n",
    "  /// How to make a `Batch` from a slice of `BatchSampleSet`.\n",
    "  private let makeBatches: (Int, Samples, Bool) -> Batches<Samples, Batch>\n",
    "  \n",
    "  /// Creates an instance that will be able to generate `Batches` of `batchSize`\n",
    "  /// from `training`and `validation` samples, using `maker`\n",
    "  public init(\n",
    "    of batchSize: Int,\n",
    "    from training:Samples, \n",
    "    and validation: Samples,\n",
    "    _ makeBatches: @escaping (Int, Samples, Bool) -> Batches<Samples, Batch>\n",
    "  ) {\n",
    "    self.batchSize = batchSize\n",
    "    self.training = training\n",
    "    self.validation = validation\n",
    "    self.makeBatches = makeBatches\n",
    "  }\n",
    "    \n",
    "  /// Returns new `Batches` for training and validation, with a reshuffle of \n",
    "  /// the training data\n",
    "  public func nextEpoch() -> (\n",
    "    training: Batches<Samples, Batch>, \n",
    "    validation: Batches<Samples, Batch>\n",
    "  ) {\n",
    "  return (\n",
    "    training: makeBatches(batchSize, training, true), \n",
    "    validation: makeBatches(batchSize, validation, false))\n",
    "  }\n",
    "}"
   ]
  },
  {
   "cell_type": "code",
   "execution_count": 26,
   "metadata": {},
   "outputs": [],
   "source": [
    "func baseMakeBatches<Samples: RandomAccessCollection>(\n",
    "  of batchSize: Int, from samples: ReindexedCollection<Samples>, isTrain: Bool\n",
    ") -> Batches<ReindexedCollection<Samples>, Samples.Element> where Samples.Element: Collatable {\n",
    "  let dataset = isTrain ? samples.innerShuffled() : samples\n",
    "  return Batches(of: batchSize, from: dataset, \\.collated)    \n",
    "}"
   ]
  },
  {
   "cell_type": "code",
   "execution_count": 27,
   "metadata": {},
   "outputs": [],
   "source": [
    "// Base use\n",
    "\n",
    "// A heavy-compute function lazily mapped on it (for instance, opening the images)\n",
    "let trainingSet = (0..<512).lazy.map { _ in Tensor<Float>(randomNormal: [224, 224, 3]) }\n",
    "let validationSet = (0..<256).lazy.map { _ in Tensor<Float>(randomNormal: [224, 224, 3]) }"
   ]
  },
  {
   "cell_type": "code",
   "execution_count": 28,
   "metadata": {},
   "outputs": [],
   "source": [
    "// A `Batches` defined on this:\n",
    "let batchesGenerator = BatchesGenerator1(\n",
    "    of: 64, \n",
    "    from: ReindexedCollection(trainingSet), \n",
    "    and: ReindexedCollection(validationSet), \n",
    "    baseMakeBatches\n",
    ")"
   ]
  },
  {
   "cell_type": "code",
   "execution_count": 29,
   "metadata": {},
   "outputs": [
    {
     "name": "stdout",
     "output_type": "stream",
     "text": [
      "[64, 224, 224, 3]\n",
      "[64, 224, 224, 3]\n",
      "[64, 224, 224, 3]\n",
      "[64, 224, 224, 3]\n",
      "[64, 224, 224, 3]\n",
      "[64, 224, 224, 3]\n",
      "[64, 224, 224, 3]\n",
      "[64, 224, 224, 3]\n",
      "[64, 224, 224, 3]\n",
      "[64, 224, 224, 3]\n",
      "[64, 224, 224, 3]\n",
      "[64, 224, 224, 3]\n"
     ]
    }
   ],
   "source": [
    "let (trainingBatches, validationBatches) = batchesGenerator.nextEpoch()\n",
    "for b in trainingBatches { print(b.shape) }\n",
    "for b in validationBatches { print(b.shape) }"
   ]
  },
  {
   "cell_type": "code",
   "execution_count": null,
   "metadata": {},
   "outputs": [],
   "source": []
  }
 ],
 "metadata": {
  "jupytext": {
   "split_at_heading": true
  },
  "kernelspec": {
   "display_name": "Swift",
   "language": "swift",
   "name": "swift"
  },
  "language_info": {
   "file_extension": ".swift",
   "mimetype": "text/x-swift",
   "name": "swift",
   "version": ""
  }
 },
 "nbformat": 4,
 "nbformat_minor": 2
}
